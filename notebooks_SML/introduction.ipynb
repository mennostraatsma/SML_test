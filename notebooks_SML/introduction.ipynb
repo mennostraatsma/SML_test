{
 "cells": [
  {
   "cell_type": "markdown",
   "id": "e87ccd79",
   "metadata": {},
   "source": [
    "# My introduction test\n",
    "\n",
    "Here is some example text, generated from folder"
   ]
  },
  {
   "cell_type": "markdown",
   "id": "28d5b70f",
   "metadata": {},
   "source": [
    "## section 1"
   ]
  },
  {
   "cell_type": "markdown",
   "id": "4b76cbd9",
   "metadata": {},
   "source": [
    "## section 2\n",
    "### section 2.1"
   ]
  }
 ],
 "metadata": {
  "kernelspec": {
   "display_name": "Python 3 (ipykernel)",
   "language": "python",
   "name": "python3"
  },
  "language_info": {
   "codemirror_mode": {
    "name": "ipython",
    "version": 3
   },
   "file_extension": ".py",
   "mimetype": "text/x-python",
   "name": "python",
   "nbconvert_exporter": "python",
   "pygments_lexer": "ipython3",
   "version": "3.9.7"
  }
 },
 "nbformat": 4,
 "nbformat_minor": 5
}
